{
 "cells": [
  {
   "cell_type": "code",
   "execution_count": 1,
   "metadata": {
    "executionInfo": {
     "elapsed": 518,
     "status": "ok",
     "timestamp": 1626434689569,
     "user": {
      "displayName": "Sumohana Channappayya",
      "photoUrl": "",
      "userId": "05558383875025587155"
     },
     "user_tz": -330
    },
    "id": "Rcpf9a1i5t8y"
   },
   "outputs": [],
   "source": [
    "##############################################\n",
    "# Program to illustrate the K-means algorithm\n",
    "\n",
    "# Author: Dishank\n",
    "##############################################\n",
    "# Import all required libraries\n",
    "import numpy as np"
   ]
  },
  {
   "cell_type": "code",
   "execution_count": 2,
   "metadata": {},
   "outputs": [
    {
     "name": "stdout",
     "output_type": "stream",
     "text": [
      "Please enter the number of clusters K:5\n"
     ]
    }
   ],
   "source": [
    "# Take hyperparameter K as input\n",
    "K = int(input(\"Please enter the number of clusters K:\"))"
   ]
  },
  {
   "cell_type": "code",
   "execution_count": 3,
   "metadata": {},
   "outputs": [
    {
     "name": "stdout",
     "output_type": "stream",
     "text": [
      "Please enter input dimension p:2\n"
     ]
    }
   ],
   "source": [
    "# Take input dimension p as input\n",
    "p = int(input(\"Please enter input dimension p:\"))"
   ]
  },
  {
   "cell_type": "code",
   "execution_count": 4,
   "metadata": {
    "colab": {
     "base_uri": "https://localhost:8080/",
     "height": 295
    },
    "executionInfo": {
     "elapsed": 1997,
     "status": "ok",
     "timestamp": 1626434696844,
     "user": {
      "displayName": "Sumohana Channappayya",
      "photoUrl": "",
      "userId": "05558383875025587155"
     },
     "user_tz": -330
    },
    "id": "tsxilbAt5t8z",
    "outputId": "74473e37-c9dd-42f8-c299-d70686f31fe8"
   },
   "outputs": [
    {
     "name": "stdout",
     "output_type": "stream",
     "text": [
      "Means are: [[ 8. 10.]\n",
      " [ 2.  4.]\n",
      " [ 6.  5.]\n",
      " [ 7.  1.]\n",
      " [ 3.  9.]]\n"
     ]
    }
   ],
   "source": [
    "# First generate random numbers\n",
    "NUM_PTS = 2000\n",
    "\n",
    "# Generate a random list of p*K numbers and reshape it to get K means\n",
    "temp_list = np.linspace(1, p*K, p*K)\n",
    "np.random.shuffle(temp_list)\n",
    "means = np.reshape(temp_list,[K,p])\n",
    "\n",
    "# Print the means\n",
    "print(\"Means are:\", means)\n",
    "\n",
    "# Taking the dimensions to be uncorrelated and variance accross each to be 0.2,\n",
    "# generate covariance matrix\n",
    "cov = 0.2*np.identity(p)\n",
    "\n",
    "# Generate random data points accordingly\n",
    "Y = np.random.multivariate_normal(means[0,:], cov, NUM_PTS)\n",
    "for i in range(K-1):\n",
    "    Y = np.concatenate((Y, np.random.multivariate_normal(means[i+1,:], cov, NUM_PTS)), axis = 0)"
   ]
  },
  {
   "cell_type": "code",
   "execution_count": 5,
   "metadata": {
    "colab": {
     "base_uri": "https://localhost:8080/",
     "height": 1000
    },
    "executionInfo": {
     "elapsed": 9714,
     "status": "ok",
     "timestamp": 1626434723796,
     "user": {
      "displayName": "Sumohana Channappayya",
      "photoUrl": "",
      "userId": "05558383875025587155"
     },
     "user_tz": -330
    },
    "id": "CusnqsR05t81",
    "outputId": "c1e03f1f-2bc5-45c6-b11e-fb8cc70b7bbd",
    "scrolled": false
   },
   "outputs": [
    {
     "name": "stdout",
     "output_type": "stream",
     "text": [
      "Iteration:  1 Error:  4.722471342219025\n",
      "Iteration:  2 Error:  0.2915380336202645\n",
      "Iteration:  3 Error:  0.1093063768053237\n",
      "Iteration:  4 Error:  0.07905726956684021\n",
      "Iteration:  5 Error:  0.06589361865809841\n",
      "Iteration:  6 Error:  0.06547712421119778\n",
      "Iteration:  7 Error:  0.08969261551688296\n",
      "Iteration:  8 Error:  0.17519078008380068\n",
      "Iteration:  9 Error:  0.5394039757297503\n",
      "Iteration:  10 Error:  2.4756593528694784\n",
      "Iteration:  11 Error:  1.8910657349522888\n",
      "Iteration:  12 Error:  0.0\n",
      "Centroids: [[3.00521868 9.00297259]\n",
      " [1.99448502 4.01001881]\n",
      " [5.99533377 4.9990155 ]\n",
      " [7.98316829 9.99937494]\n",
      " [6.98908983 0.99256329]]\n",
      "Cluster assignments: [3. 3. 3. ... 0. 0. 0.]\n"
     ]
    }
   ],
   "source": [
    "# Now start the algorithm\n",
    "\n",
    "# Set stopping condition \n",
    "epsilon = 0.001\n",
    "\n",
    "# Initialize error to a large value\n",
    "error = 10000\n",
    "\n",
    "# Initialize K centroids, taking mean as mean of input data and unit variance\n",
    "D = np.random.multivariate_normal(Y.mean(axis = 0), np.identity(p), K)\n",
    "\n",
    "# Initialize iteration count to 0\n",
    "count = 0\n",
    "\n",
    "# Initialize cluster assignments\n",
    "assigned_cluster = np.zeros(K*NUM_PTS)\n",
    "\n",
    "while (error > epsilon):\n",
    "    # Initialize latest centroids to 0\n",
    "    latest_centroids = np.zeros([K,p])\n",
    "\n",
    "    # Update clusters based on distance\n",
    "    for idx in range(K*NUM_PTS):\n",
    "        # cur_y := current point y\n",
    "        cur_y = Y[idx,:]\n",
    "\n",
    "        # Find Euclidean distance of current point from each centroid\n",
    "        distance_vector = np.zeros(K)\n",
    "        for i in range(K):\n",
    "            distance_vector[i] = np.linalg.norm(cur_y - D[i,:])\n",
    "\n",
    "        # Find closest centroid and update centroid \n",
    "        assigned_cluster[idx] = np.argmin(distance_vector)\n",
    "        latest_centroids[int(assigned_cluster[idx]),:] += cur_y \n",
    "       \n",
    "    # NOTE: The divide by zero case has to be handled gracefully\n",
    "    \n",
    "    # Calculate latest centroids\n",
    "    for i in range(K):\n",
    "        num = np.count_nonzero(assigned_cluster == i)\n",
    "        if num != 0:\n",
    "            latest_centroids[i,:] = (1/num)*latest_centroids[i,:]\n",
    "        # if no point is assigned to a centroid, then update that centroid to mean of data\n",
    "        if num == 0:\n",
    "            latest_centroids[i,:] = Y.mean(axis = 0)\n",
    "    \n",
    "    # Compute error\n",
    "    error = (np.sum(np.square(latest_centroids - D)))**(0.5)\n",
    "    \n",
    "    # Update centroids\n",
    "    D = latest_centroids\n",
    "    \n",
    "    # Update count\n",
    "    count += 1\n",
    "\n",
    "    # Print error\n",
    "    print ('Iteration: ', count, 'Error: ', error)\n",
    "\n",
    "# Print centroids\n",
    "print ('Centroids:', D)\n",
    "\n",
    "# Print cluster assignments\n",
    "print ('Cluster assignments:', assigned_cluster)\n"
   ]
  }
 ],
 "metadata": {
  "colab": {
   "collapsed_sections": [],
   "name": "KmeansClusteringDemo.ipynb",
   "provenance": []
  },
  "kernelspec": {
   "display_name": "Python 3 (ipykernel)",
   "language": "python",
   "name": "python3"
  },
  "language_info": {
   "codemirror_mode": {
    "name": "ipython",
    "version": 3
   },
   "file_extension": ".py",
   "mimetype": "text/x-python",
   "name": "python",
   "nbconvert_exporter": "python",
   "pygments_lexer": "ipython3",
   "version": "3.9.5"
  }
 },
 "nbformat": 4,
 "nbformat_minor": 1
}
